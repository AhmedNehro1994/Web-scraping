{
 "cells": [
  {
   "cell_type": "markdown",
   "id": "03e804ba",
   "metadata": {},
   "source": [
    "# Get the weather status"
   ]
  },
  {
   "cell_type": "markdown",
   "id": "984b2058",
   "metadata": {},
   "source": [
    "Scrap the weather temperature, humidity, visibility, air pressure, wind speed, datetime data from  \n",
    "\n",
    "[Free meteo](https://eg.freemeteo.com/weather/cairo/current-weather/location/?gid=360630&language=english&country=egypt)"
   ]
  },
  {
   "cell_type": "code",
   "execution_count": 2,
   "id": "45b4375b",
   "metadata": {},
   "outputs": [],
   "source": [
    "import csv\n",
    "import requests\n",
    "from bs4 import BeautifulSoup\n",
    "import time\n",
    "import datetime\n",
    " \n",
    "url = 'https://eg.freemeteo.com/weather/cairo/current-weather/location/?gid=360630&language=english&country=egypt'\n",
    "response = requests.get(url) \n",
    "soup = BeautifulSoup(response.text , 'html.parser')"
   ]
  },
  {
   "cell_type": "code",
   "execution_count": 3,
   "id": "a0be256e",
   "metadata": {},
   "outputs": [],
   "source": [
    "So= soup.find('div',attrs ={'class':'stats'})"
   ]
  },
  {
   "cell_type": "markdown",
   "id": "162278bd",
   "metadata": {},
   "source": [
    "# Pressure , Visibility and Humidity"
   ]
  },
  {
   "cell_type": "code",
   "execution_count": 4,
   "id": "b57c2820",
   "metadata": {},
   "outputs": [
    {
     "data": {
      "text/plain": [
       "'63%'"
      ]
     },
     "execution_count": 4,
     "metadata": {},
     "output_type": "execute_result"
    }
   ],
   "source": [
    "pressure = So.text.split('\\n')[5].strip()\n",
    "Visibility = So.text.split('\\n')[3].strip()\n",
    "humidity = So.text.split('\\n')[1].strip()\n",
    "v= Visibility.split()\n",
    "v.remove('>')\n",
    "v.remove('|')\n",
    "v[0]\n",
    "h = humidity.split()\n",
    "h.remove('|')\n",
    "h[0]"
   ]
  },
  {
   "cell_type": "code",
   "execution_count": 5,
   "id": "a27609c6",
   "metadata": {},
   "outputs": [],
   "source": [
    "now = datetime.datetime.now()\n",
    "date_time = now.strftime('%Y/%m/%d-%H:%M:%S')"
   ]
  },
  {
   "cell_type": "markdown",
   "id": "b4c55b67",
   "metadata": {},
   "source": [
    "# Tembrature"
   ]
  },
  {
   "cell_type": "code",
   "execution_count": 6,
   "id": "fcf2037d",
   "metadata": {},
   "outputs": [],
   "source": [
    "temb =soup.find('div',attrs ={'class':'temp'})\n",
    "tembrature= temb.text"
   ]
  },
  {
   "cell_type": "markdown",
   "id": "be790585",
   "metadata": {},
   "source": [
    "\n",
    "\n",
    "# Wind speed"
   ]
  },
  {
   "cell_type": "code",
   "execution_count": 19,
   "id": "770d02e4",
   "metadata": {},
   "outputs": [
    {
     "data": {
      "text/plain": [
       "'Wind: Calm'"
      ]
     },
     "execution_count": 19,
     "metadata": {},
     "output_type": "execute_result"
    }
   ],
   "source": [
    "wind =soup.find('div',attrs ={'class':'wind'})\n",
    "w= wind.text \n",
    "ws= w.split()\n",
    "wind_speed= ws[0]+' '+ws[1]\n",
    "wind_speed"
   ]
  },
  {
   "cell_type": "markdown",
   "id": "2624a46e",
   "metadata": {},
   "source": [
    "\n",
    "\n",
    "# Datetime data\n"
   ]
  },
  {
   "cell_type": "code",
   "execution_count": 21,
   "id": "e97c6eed",
   "metadata": {},
   "outputs": [],
   "source": [
    "Date_Time =soup.find('div',attrs ={'class':'last-renew'})\n",
    "dt=Date_Time.text\n"
   ]
  },
  {
   "cell_type": "code",
   "execution_count": 22,
   "id": "8b72c13a",
   "metadata": {},
   "outputs": [],
   "source": [
    "s = dt.split()\n",
    "Update=s[0]+' '+s[1]+' '+s[2]+' '+'ago'"
   ]
  },
  {
   "cell_type": "code",
   "execution_count": 23,
   "id": "1c15e841",
   "metadata": {},
   "outputs": [],
   "source": [
    "fieldnames= ['Tembrature','Pressure','Humidity','Wind_speed','Visibility','Update','datetime']\n",
    "\n",
    "with open('Temb.csv','w',newline='')as f :\n",
    "    writer=csv.DictWriter(f,fieldnames=fieldnames)\n",
    "    writer.writeheader()\n",
    "    writer.writerow({'Tembrature': tembrature,\n",
    "                     'Pressure':pressure,\n",
    "                     'Humidity':v[0],\n",
    "                     'Wind_speed':wind_speed,\n",
    "                     'Visibility':v[0],\n",
    "                     'Update':Update,\n",
    "                     'datetime':date_time})"
   ]
  },
  {
   "cell_type": "code",
   "execution_count": 24,
   "id": "08af3aeb",
   "metadata": {},
   "outputs": [],
   "source": [
    "def ask() :\n",
    "    fieldnames= ['Tembrature','Pressure','Humidity','Wind_speed','Visibility','Update','datetime']\n",
    "    for i in range(10):\n",
    "        now = datetime.datetime.now()\n",
    "        date_time = now.strftime('%Y/%m/%d-%H:%M:%S')\n",
    "        with open('Temb.csv','a',newline='')as f :\n",
    "            writer=csv.DictWriter(f,fieldnames=fieldnames)\n",
    "            writer.writeheader()\n",
    "            writer.writerow({'Tembrature': tembrature,\n",
    "                             'Pressure':pressure,\n",
    "                             'Humidity':v[0],\n",
    "                             'Wind_speed':wind_speed,\n",
    "                             'Visibility':v[0],\n",
    "                             'Update':Update,\n",
    "                             'datetime':date_time})\n",
    "        time.sleep(60)\n"
   ]
  },
  {
   "cell_type": "code",
   "execution_count": null,
   "id": "9e7f01fd",
   "metadata": {},
   "outputs": [],
   "source": [
    "ask()"
   ]
  }
 ],
 "metadata": {
  "kernelspec": {
   "display_name": "Python 3",
   "language": "python",
   "name": "python3"
  },
  "language_info": {
   "codemirror_mode": {
    "name": "ipython",
    "version": 3
   },
   "file_extension": ".py",
   "mimetype": "text/x-python",
   "name": "python",
   "nbconvert_exporter": "python",
   "pygments_lexer": "ipython3",
   "version": "3.8.8"
  }
 },
 "nbformat": 4,
 "nbformat_minor": 5
}
