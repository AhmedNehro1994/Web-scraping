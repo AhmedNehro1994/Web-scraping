{
 "cells": [
  {
   "cell_type": "markdown",
   "id": "cceef9cf",
   "metadata": {},
   "source": [
    "## Currency exchange \n",
    "\n",
    "Making programe scrape the value of Dollar or any currency from\n",
    "[Exchange Rates UK](https://www.exchangerates.org.uk/Dollars-to-Egyptian-Pounds-currency-conversion-page.html)\n",
    "\n",
    "and exchange into Egyption pounds \n"
   ]
  },
  {
   "cell_type": "code",
   "execution_count": null,
   "id": "f216e8eb",
   "metadata": {},
   "outputs": [],
   "source": [
    "import requests \n",
    "from bs4 import BeautifulSoup\n",
    "url = 'https://www.exchangerates.org.uk/Dollars-to-Egyptian-Pounds-currency-conversion-page.html'\n",
    "response = requests.get(url) \n",
    "soup = BeautifulSoup(response.text , 'html.parser')"
   ]
  },
  {
   "cell_type": "code",
   "execution_count": 47,
   "id": "6f2ea616",
   "metadata": {},
   "outputs": [],
   "source": [
    "USD= soup.find('span',attrs={'id':'shd2b;'})"
   ]
  },
  {
   "cell_type": "code",
   "execution_count": 69,
   "id": "d72384c1",
   "metadata": {},
   "outputs": [],
   "source": [
    "def USD (x):\n",
    "    url = 'https://www.exchangerates.org.uk/Dollars-to-Egyptian-Pounds-currency-conversion-page.html'\n",
    "    response = requests.get(url) \n",
    "    soup = BeautifulSoup(response.text , 'html.parser')\n",
    "    USD= soup.find('span',attrs={'id':'shd2b;'})\n",
    "    Egy= float(USD.text)\n",
    "    print ( f'{x * Egy} pounds' )"
   ]
  },
  {
   "cell_type": "code",
   "execution_count": 71,
   "id": "caf31d1a",
   "metadata": {},
   "outputs": [
    {
     "name": "stdout",
     "output_type": "stream",
     "text": [
      "1232.14 pounds\n"
     ]
    }
   ],
   "source": [
    "USD (50)"
   ]
  },
  {
   "cell_type": "code",
   "execution_count": 72,
   "id": "d3553289",
   "metadata": {},
   "outputs": [
    {
     "name": "stdout",
     "output_type": "stream",
     "text": [
      "30433.858 pounds\n"
     ]
    }
   ],
   "source": [
    "USD (1235)"
   ]
  }
 ],
 "metadata": {
  "kernelspec": {
   "display_name": "Python 3",
   "language": "python",
   "name": "python3"
  },
  "language_info": {
   "codemirror_mode": {
    "name": "ipython",
    "version": 3
   },
   "file_extension": ".py",
   "mimetype": "text/x-python",
   "name": "python",
   "nbconvert_exporter": "python",
   "pygments_lexer": "ipython3",
   "version": "3.8.8"
  }
 },
 "nbformat": 4,
 "nbformat_minor": 5
}
